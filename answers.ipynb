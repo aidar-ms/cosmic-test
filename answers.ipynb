{
 "cells": [
  {
   "cell_type": "code",
   "execution_count": 1,
   "metadata": {},
   "outputs": [],
   "source": [
    "import pandas as pd\n",
    "\n",
    "from task2.utils import count_unique_icgc_mutations, get_sorted_mutation_count, get_max_and_min_icgc_mutation_count"
   ]
  },
  {
   "cell_type": "markdown",
   "metadata": {},
   "source": [
    "### Question 1: BASH"
   ]
  },
  {
   "cell_type": "markdown",
   "metadata": {},
   "source": [
    "**Question 1.1**: *How to properly track error in your bash, when you call other Unix\n",
    "commands, your own Python script, Perl script, or SQL statements via sqlplus (Oracle\n",
    "command line client that can run a SQL file). Please specify for every case you know.*"
   ]
  },
  {
   "cell_type": "markdown",
   "metadata": {},
   "source": [
    "- Redirect stderror to a file which can then be inspected: `python some_script.py 2>error.log.txt`\n",
    "- If a program dumps everything to stdout, including error messages, then we probably need both stdout and stderr in a single text file: `./some_command.sh > all_output.log.txt 2>&1`\n",
    "- If the error is known and we want to inspect it in CLI, we can pipe the output through grep: `./some_command.sh 2>&1 | grep -i -A 15 -B 15 “.*SomeError*”`"
   ]
  },
  {
   "cell_type": "markdown",
   "metadata": {},
   "source": [
    "**Question 1.2**: *If your Bash script contains asynchronized commands, such as IBM LSF job\n",
    "submission, how to compose your script to make sure everything works well and exits with a\n",
    "proper code?*"
   ]
  },
  {
   "cell_type": "markdown",
   "metadata": {},
   "source": [
    "&nbsp;&nbsp;&nbsp;&nbsp;&nbsp;&nbsp;If an asynchronous command can be run synchronously (i.e. wait for a job to complete), then several such processes can be run in the background and `wait` command can be used to wait for all of them to exit properly. Example:\n",
    "\n",
    "```bash\n",
    "#! /bin/zsh\n",
    "\n",
    "python some_sync_script.py &\n",
    "./async_script.sh --sync &\n",
    "wait\n",
    "```"
   ]
  },
  {
   "cell_type": "markdown",
   "metadata": {},
   "source": [
    "**Question 1.3**: *Why the code comment is important in Bash? And how to give proper\n",
    "comments in a Bash script?*"
   ]
  },
  {
   "cell_type": "markdown",
   "metadata": {},
   "source": [
    "- Inline comments start with `#`. Multiline comments start with `: '` and end with `'`\n",
    "- Comments can make a bash script easier to maintain by explaining the program's purpose and helping other developers to understand an algorithm if the logic flow is ambiguous.\n",
    "- If the first comment is a shebang, e.g. `#! /bin/sh`, it tells the OS which interpreter to use (bash, zsh, Bourne shell)\n",
    "\n",
    "Example:\n",
    "```bash\n",
    "#! /bin/zsh\n",
    "\n",
    ": '\n",
    "    some_script.sh accepts a series of integers to pass odd numbers to prog1.sh\n",
    "    and even numbers to prog2.sh\n",
    "'\n",
    "\n",
    "for var in \"$@\"\n",
    "do\n",
    "    if ((var%2))\n",
    "    then\n",
    "        # var is an odd number\n",
    "        # prog1 does not print even numbers, so its arguments should be odd numbers\n",
    "       ./prog1.sh $var\n",
    "    else\n",
    "        # var is an even number\n",
    "        ./prog2.sh $var\n",
    "    fi\n",
    "done\n",
    "```\n"
   ]
  },
  {
   "cell_type": "markdown",
   "metadata": {},
   "source": [
    "### Question 2: Data processing"
   ]
  },
  {
   "cell_type": "markdown",
   "metadata": {},
   "source": [
    "#### Let's inspect the dataset first"
   ]
  },
  {
   "cell_type": "code",
   "execution_count": 2,
   "metadata": {},
   "outputs": [],
   "source": [
    "data = pd.read_csv(\"simple_somatic_mutation.open.BLCA-CN.tsv\", sep=\"\\t\")"
   ]
  },
  {
   "cell_type": "code",
   "execution_count": 3,
   "metadata": {},
   "outputs": [
    {
     "data": {
      "text/plain": [
       "Index(['icgc_mutation_id', 'icgc_donor_id', 'project_code', 'icgc_specimen_id',\n",
       "       'icgc_sample_id', 'matched_icgc_sample_id', 'submitted_sample_id',\n",
       "       'submitted_matched_sample_id', 'chromosome', 'chromosome_start',\n",
       "       'chromosome_end', 'chromosome_strand', 'assembly_version',\n",
       "       'mutation_type', 'reference_genome_allele', 'mutated_from_allele',\n",
       "       'mutated_to_allele', 'quality_score', 'probability', 'total_read_count',\n",
       "       'mutant_allele_read_count', 'verification_status',\n",
       "       'verification_platform', 'biological_validation_status',\n",
       "       'biological_validation_platform', 'consequence_type', 'aa_mutation',\n",
       "       'cds_mutation', 'gene_affected', 'transcript_affected',\n",
       "       'gene_build_version', 'platform', 'experimental_protocol',\n",
       "       'sequencing_strategy', 'base_calling_algorithm', 'alignment_algorithm',\n",
       "       'variation_calling_algorithm', 'other_analysis_algorithm',\n",
       "       'seq_coverage', 'raw_data_repository', 'raw_data_accession',\n",
       "       'initial_data_release_date'],\n",
       "      dtype='object')"
      ]
     },
     "execution_count": 3,
     "metadata": {},
     "output_type": "execute_result"
    }
   ],
   "source": [
    "data.columns"
   ]
  },
  {
   "cell_type": "code",
   "execution_count": 4,
   "metadata": {},
   "outputs": [
    {
     "data": {
      "text/plain": [
       "(124696, 42)"
      ]
     },
     "execution_count": 4,
     "metadata": {},
     "output_type": "execute_result"
    }
   ],
   "source": [
    "data.shape"
   ]
  },
  {
   "cell_type": "code",
   "execution_count": 5,
   "metadata": {},
   "outputs": [
    {
     "data": {
      "text/html": [
       "<div>\n",
       "<style scoped>\n",
       "    .dataframe tbody tr th:only-of-type {\n",
       "        vertical-align: middle;\n",
       "    }\n",
       "\n",
       "    .dataframe tbody tr th {\n",
       "        vertical-align: top;\n",
       "    }\n",
       "\n",
       "    .dataframe thead th {\n",
       "        text-align: right;\n",
       "    }\n",
       "</style>\n",
       "<table border=\"1\" class=\"dataframe\">\n",
       "  <thead>\n",
       "    <tr style=\"text-align: right;\">\n",
       "      <th></th>\n",
       "      <th>icgc_mutation_id</th>\n",
       "      <th>icgc_donor_id</th>\n",
       "      <th>project_code</th>\n",
       "      <th>icgc_specimen_id</th>\n",
       "      <th>icgc_sample_id</th>\n",
       "      <th>matched_icgc_sample_id</th>\n",
       "      <th>submitted_sample_id</th>\n",
       "      <th>submitted_matched_sample_id</th>\n",
       "      <th>chromosome</th>\n",
       "      <th>chromosome_start</th>\n",
       "      <th>...</th>\n",
       "      <th>experimental_protocol</th>\n",
       "      <th>sequencing_strategy</th>\n",
       "      <th>base_calling_algorithm</th>\n",
       "      <th>alignment_algorithm</th>\n",
       "      <th>variation_calling_algorithm</th>\n",
       "      <th>other_analysis_algorithm</th>\n",
       "      <th>seq_coverage</th>\n",
       "      <th>raw_data_repository</th>\n",
       "      <th>raw_data_accession</th>\n",
       "      <th>initial_data_release_date</th>\n",
       "    </tr>\n",
       "  </thead>\n",
       "  <tbody>\n",
       "    <tr>\n",
       "      <th>0</th>\n",
       "      <td>MU5219</td>\n",
       "      <td>DO48399</td>\n",
       "      <td>BLCA-CN</td>\n",
       "      <td>SP106410</td>\n",
       "      <td>SA514847</td>\n",
       "      <td>SA514849</td>\n",
       "      <td>B54-Tumor</td>\n",
       "      <td>B54-Blood</td>\n",
       "      <td>3</td>\n",
       "      <td>178936091</td>\n",
       "      <td>...</td>\n",
       "      <td>Agilent SureSelect in Solution http://www.halo...</td>\n",
       "      <td>WXS</td>\n",
       "      <td>Illumina base-calling pipeline http://www.illu...</td>\n",
       "      <td>BWA http://bio-bwa.sourceforge.net/bwa.shtml</td>\n",
       "      <td>VarScan http://varscan.sourceforge.net/somatic...</td>\n",
       "      <td>Annotation with annovar http://www.openbioinfo...</td>\n",
       "      <td>70.0</td>\n",
       "      <td>EGA</td>\n",
       "      <td>EGAS00001000677</td>\n",
       "      <td>NaN</td>\n",
       "    </tr>\n",
       "    <tr>\n",
       "      <th>1</th>\n",
       "      <td>MU5219</td>\n",
       "      <td>DO48399</td>\n",
       "      <td>BLCA-CN</td>\n",
       "      <td>SP106410</td>\n",
       "      <td>SA514847</td>\n",
       "      <td>SA514849</td>\n",
       "      <td>B54-Tumor</td>\n",
       "      <td>B54-Blood</td>\n",
       "      <td>3</td>\n",
       "      <td>178936091</td>\n",
       "      <td>...</td>\n",
       "      <td>Agilent SureSelect in Solution http://www.halo...</td>\n",
       "      <td>WXS</td>\n",
       "      <td>Illumina base-calling pipeline http://www.illu...</td>\n",
       "      <td>BWA http://bio-bwa.sourceforge.net/bwa.shtml</td>\n",
       "      <td>VarScan http://varscan.sourceforge.net/somatic...</td>\n",
       "      <td>Annotation with annovar http://www.openbioinfo...</td>\n",
       "      <td>70.0</td>\n",
       "      <td>EGA</td>\n",
       "      <td>EGAS00001000677</td>\n",
       "      <td>NaN</td>\n",
       "    </tr>\n",
       "    <tr>\n",
       "      <th>2</th>\n",
       "      <td>MU4559679</td>\n",
       "      <td>DO48399</td>\n",
       "      <td>BLCA-CN</td>\n",
       "      <td>SP106410</td>\n",
       "      <td>SA514847</td>\n",
       "      <td>SA514849</td>\n",
       "      <td>B54-Tumor</td>\n",
       "      <td>B54-Blood</td>\n",
       "      <td>12</td>\n",
       "      <td>56558254</td>\n",
       "      <td>...</td>\n",
       "      <td>Agilent SureSelect in Solution http://www.halo...</td>\n",
       "      <td>WXS</td>\n",
       "      <td>Illumina base-calling pipeline http://www.illu...</td>\n",
       "      <td>BWA http://bio-bwa.sourceforge.net/bwa.shtml</td>\n",
       "      <td>VarScan http://varscan.sourceforge.net/somatic...</td>\n",
       "      <td>Annotation with annovar http://www.openbioinfo...</td>\n",
       "      <td>70.0</td>\n",
       "      <td>EGA</td>\n",
       "      <td>EGAS00001000677</td>\n",
       "      <td>NaN</td>\n",
       "    </tr>\n",
       "    <tr>\n",
       "      <th>3</th>\n",
       "      <td>MU4559679</td>\n",
       "      <td>DO48399</td>\n",
       "      <td>BLCA-CN</td>\n",
       "      <td>SP106410</td>\n",
       "      <td>SA514847</td>\n",
       "      <td>SA514849</td>\n",
       "      <td>B54-Tumor</td>\n",
       "      <td>B54-Blood</td>\n",
       "      <td>12</td>\n",
       "      <td>56558254</td>\n",
       "      <td>...</td>\n",
       "      <td>Agilent SureSelect in Solution http://www.halo...</td>\n",
       "      <td>WXS</td>\n",
       "      <td>Illumina base-calling pipeline http://www.illu...</td>\n",
       "      <td>BWA http://bio-bwa.sourceforge.net/bwa.shtml</td>\n",
       "      <td>VarScan http://varscan.sourceforge.net/somatic...</td>\n",
       "      <td>Annotation with annovar http://www.openbioinfo...</td>\n",
       "      <td>70.0</td>\n",
       "      <td>EGA</td>\n",
       "      <td>EGAS00001000677</td>\n",
       "      <td>NaN</td>\n",
       "    </tr>\n",
       "    <tr>\n",
       "      <th>4</th>\n",
       "      <td>MU4559679</td>\n",
       "      <td>DO48399</td>\n",
       "      <td>BLCA-CN</td>\n",
       "      <td>SP106410</td>\n",
       "      <td>SA514847</td>\n",
       "      <td>SA514849</td>\n",
       "      <td>B54-Tumor</td>\n",
       "      <td>B54-Blood</td>\n",
       "      <td>12</td>\n",
       "      <td>56558254</td>\n",
       "      <td>...</td>\n",
       "      <td>Agilent SureSelect in Solution http://www.halo...</td>\n",
       "      <td>WXS</td>\n",
       "      <td>Illumina base-calling pipeline http://www.illu...</td>\n",
       "      <td>BWA http://bio-bwa.sourceforge.net/bwa.shtml</td>\n",
       "      <td>VarScan http://varscan.sourceforge.net/somatic...</td>\n",
       "      <td>Annotation with annovar http://www.openbioinfo...</td>\n",
       "      <td>70.0</td>\n",
       "      <td>EGA</td>\n",
       "      <td>EGAS00001000677</td>\n",
       "      <td>NaN</td>\n",
       "    </tr>\n",
       "  </tbody>\n",
       "</table>\n",
       "<p>5 rows × 42 columns</p>\n",
       "</div>"
      ],
      "text/plain": [
       "  icgc_mutation_id icgc_donor_id project_code icgc_specimen_id icgc_sample_id  \\\n",
       "0           MU5219       DO48399      BLCA-CN         SP106410       SA514847   \n",
       "1           MU5219       DO48399      BLCA-CN         SP106410       SA514847   \n",
       "2        MU4559679       DO48399      BLCA-CN         SP106410       SA514847   \n",
       "3        MU4559679       DO48399      BLCA-CN         SP106410       SA514847   \n",
       "4        MU4559679       DO48399      BLCA-CN         SP106410       SA514847   \n",
       "\n",
       "  matched_icgc_sample_id submitted_sample_id submitted_matched_sample_id  \\\n",
       "0               SA514849           B54-Tumor                   B54-Blood   \n",
       "1               SA514849           B54-Tumor                   B54-Blood   \n",
       "2               SA514849           B54-Tumor                   B54-Blood   \n",
       "3               SA514849           B54-Tumor                   B54-Blood   \n",
       "4               SA514849           B54-Tumor                   B54-Blood   \n",
       "\n",
       "  chromosome  chromosome_start  ...  \\\n",
       "0          3         178936091  ...   \n",
       "1          3         178936091  ...   \n",
       "2         12          56558254  ...   \n",
       "3         12          56558254  ...   \n",
       "4         12          56558254  ...   \n",
       "\n",
       "                               experimental_protocol  sequencing_strategy  \\\n",
       "0  Agilent SureSelect in Solution http://www.halo...                  WXS   \n",
       "1  Agilent SureSelect in Solution http://www.halo...                  WXS   \n",
       "2  Agilent SureSelect in Solution http://www.halo...                  WXS   \n",
       "3  Agilent SureSelect in Solution http://www.halo...                  WXS   \n",
       "4  Agilent SureSelect in Solution http://www.halo...                  WXS   \n",
       "\n",
       "                              base_calling_algorithm  \\\n",
       "0  Illumina base-calling pipeline http://www.illu...   \n",
       "1  Illumina base-calling pipeline http://www.illu...   \n",
       "2  Illumina base-calling pipeline http://www.illu...   \n",
       "3  Illumina base-calling pipeline http://www.illu...   \n",
       "4  Illumina base-calling pipeline http://www.illu...   \n",
       "\n",
       "                            alignment_algorithm  \\\n",
       "0  BWA http://bio-bwa.sourceforge.net/bwa.shtml   \n",
       "1  BWA http://bio-bwa.sourceforge.net/bwa.shtml   \n",
       "2  BWA http://bio-bwa.sourceforge.net/bwa.shtml   \n",
       "3  BWA http://bio-bwa.sourceforge.net/bwa.shtml   \n",
       "4  BWA http://bio-bwa.sourceforge.net/bwa.shtml   \n",
       "\n",
       "                         variation_calling_algorithm  \\\n",
       "0  VarScan http://varscan.sourceforge.net/somatic...   \n",
       "1  VarScan http://varscan.sourceforge.net/somatic...   \n",
       "2  VarScan http://varscan.sourceforge.net/somatic...   \n",
       "3  VarScan http://varscan.sourceforge.net/somatic...   \n",
       "4  VarScan http://varscan.sourceforge.net/somatic...   \n",
       "\n",
       "                            other_analysis_algorithm seq_coverage  \\\n",
       "0  Annotation with annovar http://www.openbioinfo...         70.0   \n",
       "1  Annotation with annovar http://www.openbioinfo...         70.0   \n",
       "2  Annotation with annovar http://www.openbioinfo...         70.0   \n",
       "3  Annotation with annovar http://www.openbioinfo...         70.0   \n",
       "4  Annotation with annovar http://www.openbioinfo...         70.0   \n",
       "\n",
       "   raw_data_repository  raw_data_accession  initial_data_release_date  \n",
       "0                  EGA     EGAS00001000677                        NaN  \n",
       "1                  EGA     EGAS00001000677                        NaN  \n",
       "2                  EGA     EGAS00001000677                        NaN  \n",
       "3                  EGA     EGAS00001000677                        NaN  \n",
       "4                  EGA     EGAS00001000677                        NaN  \n",
       "\n",
       "[5 rows x 42 columns]"
      ]
     },
     "execution_count": 5,
     "metadata": {},
     "output_type": "execute_result"
    }
   ],
   "source": [
    "data.head(5)"
   ]
  },
  {
   "cell_type": "markdown",
   "metadata": {},
   "source": [
    "**Question 2.1:** *Please can you demonstrate this task in python3. You may choose to use any\n",
    "python module to parse your result, or write your code from scratch. For example, you can\n",
    "use functions like df.groupy.*\n",
    "\n",
    "*Based on file simple_somatic_mutation.open.BLCA-CN.tsv.gz, can you please print out all\n",
    "the possible patterns of mutated_from_allele and mutated_to_allele. Then, please count how\n",
    "many unique icgc_mutation_id are associated with those alleles changes.*\n",
    "\n",
    "*Notes: Column transcripts_affected (alternative transcript) has duplicated the same\n",
    "icgc_mutation_id multiple time for a single genomic location, therefore please only count the\n",
    "unique_mutation_id once.*"
   ]
  },
  {
   "cell_type": "code",
   "execution_count": 6,
   "metadata": {},
   "outputs": [
    {
     "data": {
      "text/html": [
       "<div>\n",
       "<style scoped>\n",
       "    .dataframe tbody tr th:only-of-type {\n",
       "        vertical-align: middle;\n",
       "    }\n",
       "\n",
       "    .dataframe tbody tr th {\n",
       "        vertical-align: top;\n",
       "    }\n",
       "\n",
       "    .dataframe thead th {\n",
       "        text-align: right;\n",
       "    }\n",
       "</style>\n",
       "<table border=\"1\" class=\"dataframe\">\n",
       "  <thead>\n",
       "    <tr style=\"text-align: right;\">\n",
       "      <th></th>\n",
       "      <th>mutated_from_allele</th>\n",
       "      <th>mutated_to_allele</th>\n",
       "      <th>count_unique_icgc_mutation_ids</th>\n",
       "    </tr>\n",
       "  </thead>\n",
       "  <tbody>\n",
       "    <tr>\n",
       "      <th>0</th>\n",
       "      <td>A</td>\n",
       "      <td>C</td>\n",
       "      <td>446</td>\n",
       "    </tr>\n",
       "    <tr>\n",
       "      <th>1</th>\n",
       "      <td>A</td>\n",
       "      <td>G</td>\n",
       "      <td>923</td>\n",
       "    </tr>\n",
       "    <tr>\n",
       "      <th>2</th>\n",
       "      <td>A</td>\n",
       "      <td>T</td>\n",
       "      <td>467</td>\n",
       "    </tr>\n",
       "    <tr>\n",
       "      <th>3</th>\n",
       "      <td>C</td>\n",
       "      <td>A</td>\n",
       "      <td>811</td>\n",
       "    </tr>\n",
       "    <tr>\n",
       "      <th>4</th>\n",
       "      <td>C</td>\n",
       "      <td>G</td>\n",
       "      <td>1404</td>\n",
       "    </tr>\n",
       "    <tr>\n",
       "      <th>5</th>\n",
       "      <td>C</td>\n",
       "      <td>T</td>\n",
       "      <td>3805</td>\n",
       "    </tr>\n",
       "    <tr>\n",
       "      <th>6</th>\n",
       "      <td>G</td>\n",
       "      <td>A</td>\n",
       "      <td>3620</td>\n",
       "    </tr>\n",
       "    <tr>\n",
       "      <th>7</th>\n",
       "      <td>G</td>\n",
       "      <td>C</td>\n",
       "      <td>1376</td>\n",
       "    </tr>\n",
       "    <tr>\n",
       "      <th>8</th>\n",
       "      <td>G</td>\n",
       "      <td>T</td>\n",
       "      <td>660</td>\n",
       "    </tr>\n",
       "    <tr>\n",
       "      <th>9</th>\n",
       "      <td>T</td>\n",
       "      <td>A</td>\n",
       "      <td>460</td>\n",
       "    </tr>\n",
       "    <tr>\n",
       "      <th>10</th>\n",
       "      <td>T</td>\n",
       "      <td>C</td>\n",
       "      <td>923</td>\n",
       "    </tr>\n",
       "    <tr>\n",
       "      <th>11</th>\n",
       "      <td>T</td>\n",
       "      <td>G</td>\n",
       "      <td>583</td>\n",
       "    </tr>\n",
       "  </tbody>\n",
       "</table>\n",
       "</div>"
      ],
      "text/plain": [
       "   mutated_from_allele mutated_to_allele  count_unique_icgc_mutation_ids\n",
       "0                    A                 C                             446\n",
       "1                    A                 G                             923\n",
       "2                    A                 T                             467\n",
       "3                    C                 A                             811\n",
       "4                    C                 G                            1404\n",
       "5                    C                 T                            3805\n",
       "6                    G                 A                            3620\n",
       "7                    G                 C                            1376\n",
       "8                    G                 T                             660\n",
       "9                    T                 A                             460\n",
       "10                   T                 C                             923\n",
       "11                   T                 G                             583"
      ]
     },
     "execution_count": 6,
     "metadata": {},
     "output_type": "execute_result"
    }
   ],
   "source": [
    "count_unique_icgc_mutations(data)"
   ]
  },
  {
   "cell_type": "markdown",
   "metadata": {},
   "source": [
    "**Question 2.2:** *Please can you demonstrate this in python3.\n",
    "Please find out which icgc_sample_id has the highest and lowest unique icgc_mutation_id\n",
    "count.*"
   ]
  },
  {
   "cell_type": "code",
   "execution_count": 7,
   "metadata": {},
   "outputs": [
    {
     "data": {
      "text/html": [
       "<div>\n",
       "<style scoped>\n",
       "    .dataframe tbody tr th:only-of-type {\n",
       "        vertical-align: middle;\n",
       "    }\n",
       "\n",
       "    .dataframe tbody tr th {\n",
       "        vertical-align: top;\n",
       "    }\n",
       "\n",
       "    .dataframe thead th {\n",
       "        text-align: right;\n",
       "    }\n",
       "</style>\n",
       "<table border=\"1\" class=\"dataframe\">\n",
       "  <thead>\n",
       "    <tr style=\"text-align: right;\">\n",
       "      <th></th>\n",
       "      <th>icgc_sample_id</th>\n",
       "      <th>uniq_icgc_mutation_count</th>\n",
       "    </tr>\n",
       "  </thead>\n",
       "  <tbody>\n",
       "    <tr>\n",
       "      <th>0</th>\n",
       "      <td>SA514800</td>\n",
       "      <td>583</td>\n",
       "    </tr>\n",
       "    <tr>\n",
       "      <th>1</th>\n",
       "      <td>SA514689</td>\n",
       "      <td>546</td>\n",
       "    </tr>\n",
       "    <tr>\n",
       "      <th>2</th>\n",
       "      <td>SA514687</td>\n",
       "      <td>480</td>\n",
       "    </tr>\n",
       "    <tr>\n",
       "      <th>3</th>\n",
       "      <td>SA514715</td>\n",
       "      <td>458</td>\n",
       "    </tr>\n",
       "    <tr>\n",
       "      <th>4</th>\n",
       "      <td>SA514791</td>\n",
       "      <td>424</td>\n",
       "    </tr>\n",
       "    <tr>\n",
       "      <th>...</th>\n",
       "      <td>...</td>\n",
       "      <td>...</td>\n",
       "    </tr>\n",
       "    <tr>\n",
       "      <th>98</th>\n",
       "      <td>SA514752</td>\n",
       "      <td>36</td>\n",
       "    </tr>\n",
       "    <tr>\n",
       "      <th>99</th>\n",
       "      <td>SA514863</td>\n",
       "      <td>36</td>\n",
       "    </tr>\n",
       "    <tr>\n",
       "      <th>100</th>\n",
       "      <td>SA514740</td>\n",
       "      <td>28</td>\n",
       "    </tr>\n",
       "    <tr>\n",
       "      <th>101</th>\n",
       "      <td>SA514880</td>\n",
       "      <td>27</td>\n",
       "    </tr>\n",
       "    <tr>\n",
       "      <th>102</th>\n",
       "      <td>SA514876</td>\n",
       "      <td>14</td>\n",
       "    </tr>\n",
       "  </tbody>\n",
       "</table>\n",
       "<p>103 rows × 2 columns</p>\n",
       "</div>"
      ],
      "text/plain": [
       "    icgc_sample_id  uniq_icgc_mutation_count\n",
       "0         SA514800                       583\n",
       "1         SA514689                       546\n",
       "2         SA514687                       480\n",
       "3         SA514715                       458\n",
       "4         SA514791                       424\n",
       "..             ...                       ...\n",
       "98        SA514752                        36\n",
       "99        SA514863                        36\n",
       "100       SA514740                        28\n",
       "101       SA514880                        27\n",
       "102       SA514876                        14\n",
       "\n",
       "[103 rows x 2 columns]"
      ]
     },
     "execution_count": 7,
     "metadata": {},
     "output_type": "execute_result"
    }
   ],
   "source": [
    "# All unique icgc_mutation_id counts per icgc_sample_id\n",
    "get_sorted_mutation_count(data)"
   ]
  },
  {
   "cell_type": "code",
   "execution_count": 8,
   "metadata": {},
   "outputs": [
    {
     "data": {
      "text/html": [
       "<div>\n",
       "<style scoped>\n",
       "    .dataframe tbody tr th:only-of-type {\n",
       "        vertical-align: middle;\n",
       "    }\n",
       "\n",
       "    .dataframe tbody tr th {\n",
       "        vertical-align: top;\n",
       "    }\n",
       "\n",
       "    .dataframe thead th {\n",
       "        text-align: right;\n",
       "    }\n",
       "</style>\n",
       "<table border=\"1\" class=\"dataframe\">\n",
       "  <thead>\n",
       "    <tr style=\"text-align: right;\">\n",
       "      <th></th>\n",
       "      <th>icgc_sample_id</th>\n",
       "      <th>mutation_count</th>\n",
       "    </tr>\n",
       "  </thead>\n",
       "  <tbody>\n",
       "    <tr>\n",
       "      <th>highest_mutation_count</th>\n",
       "      <td>SA514800</td>\n",
       "      <td>583</td>\n",
       "    </tr>\n",
       "    <tr>\n",
       "      <th>lowest_mutation_count</th>\n",
       "      <td>SA514876</td>\n",
       "      <td>14</td>\n",
       "    </tr>\n",
       "  </tbody>\n",
       "</table>\n",
       "</div>"
      ],
      "text/plain": [
       "                       icgc_sample_id  mutation_count\n",
       "highest_mutation_count       SA514800             583\n",
       "lowest_mutation_count        SA514876              14"
      ]
     },
     "execution_count": 8,
     "metadata": {},
     "output_type": "execute_result"
    }
   ],
   "source": [
    "# Maximum and minimum records should correspond to what we see in the cell above\n",
    "max_rec, min_rec = get_max_and_min_icgc_mutation_count(data)\n",
    "pd.DataFrame([max_rec, min_rec], index=[\"highest_mutation_count\", \"lowest_mutation_count\"])"
   ]
  },
  {
   "cell_type": "markdown",
   "metadata": {},
   "source": [
    "**Question 2.3:** *Can you please create some tests in Python to check the functions previously\n",
    "used in your code. For example the pytest package could be used.*"
   ]
  },
  {
   "cell_type": "markdown",
   "metadata": {},
   "source": [
    "&nbsp;&nbsp;&nbsp;&nbsp;&nbsp;&nbsp;*Tests can be found in tests/test_task2.py*"
   ]
  },
  {
   "cell_type": "markdown",
   "metadata": {},
   "source": [
    "### Question 3: Please answer each question and provide the SQL that you have used to get the result"
   ]
  },
  {
   "cell_type": "markdown",
   "metadata": {},
   "source": [
    "**Question 3.1:** *How many genes in the gene table have an id_biotype of 23?*"
   ]
  },
  {
   "cell_type": "markdown",
   "metadata": {},
   "source": [
    "```mysql\n",
    "mysql> select count(*) from gene where id_biotype = 23;\n",
    "+----------+\n",
    "| count(*) |\n",
    "+----------+\n",
    "|      174 |\n",
    "+----------+\n",
    "1 row in set (0.00 sec)\n",
    "\n",
    "```"
   ]
  },
  {
   "cell_type": "markdown",
   "metadata": {},
   "source": [
    "**Question 3.2:** *What is the Ensembl Gene ID for the Gene_symbol TTTY2?*"
   ]
  },
  {
   "cell_type": "markdown",
   "metadata": {},
   "source": [
    "```mysql\n",
    "mysql> select ensembl_gene_id from gene where gene_symbol = 'TTTY2';\n",
    "+-----------------+\n",
    "| ensembl_gene_id |\n",
    "+-----------------+\n",
    "| ENSG00000212855 |\n",
    "+-----------------+\n",
    "1 row in set (0.00 sec)\n",
    "```"
   ]
  },
  {
   "cell_type": "markdown",
   "metadata": {},
   "source": [
    "**Question 3.3:** *Give a breakdown of the number of genes for each chromosome.*"
   ]
  },
  {
   "cell_type": "markdown",
   "metadata": {},
   "source": [
    "```mysql\n",
    "mysql> select chromosome, count(id_gene) from gene group by chromosome order by chromosome;\n",
    "+------------+--------------------------+\n",
    "| chromosome | count(distinct(id_gene)) |\n",
    "+------------+--------------------------+\n",
    "|          1 |                       51 |\n",
    "|          2 |                       25 |\n",
    "|          3 |                       31 |\n",
    "|          4 |                       20 |\n",
    "|          5 |                       25 |\n",
    "|          6 |                       16 |\n",
    "|          7 |                       19 |\n",
    "|          8 |                       25 |\n",
    "|          9 |                       18 |\n",
    "|         10 |                       21 |\n",
    "|         11 |                       25 |\n",
    "|         12 |                       21 |\n",
    "|         13 |                       16 |\n",
    "|         14 |                       18 |\n",
    "|         15 |                       17 |\n",
    "|         16 |                       28 |\n",
    "|         17 |                       27 |\n",
    "|         18 |                        9 |\n",
    "|         19 |                       27 |\n",
    "|         20 |                       16 |\n",
    "|         21 |                        9 |\n",
    "|         22 |                       16 |\n",
    "|         23 |                       16 |\n",
    "|         24 |                        4 |\n",
    "+------------+--------------------------+\n",
    "24 rows in set (0.00 sec)\n",
    "```\n"
   ]
  },
  {
   "cell_type": "markdown",
   "metadata": {},
   "source": [
    "**Question 3.4:** *How many Transcripts does the Gene Symbol ﻿RAI14 has?*"
   ]
  },
  {
   "cell_type": "markdown",
   "metadata": {},
   "source": [
    "```mysql\n",
    "mysql> select count(t.id_transcript) from gene g join transcript t on g.id_gene = t.id_gene where g.gene_symbol = 'RAI14';\n",
    "+------------------------+\n",
    "| count(t.id_transcript) |\n",
    "+------------------------+\n",
    "|                     29 |\n",
    "+------------------------+\n",
    "1 row in set (0.00 sec)\n",
    "\n",
    "```"
   ]
  },
  {
   "cell_type": "markdown",
   "metadata": {},
   "source": [
    "**Question 3.5:** *What is the canonical transcript accession for Ensembl Gene id ﻿ENSG00000266960?*"
   ]
  },
  {
   "cell_type": "markdown",
   "metadata": {},
   "source": [
    "```mysql\n",
    "mysql> select g.ensembl_gene_id, t.accession from gene g join transcript t on g.id_gene = t.id_gene where g.ensembl_gene_id = 'ENSG00000266960';\n",
    "+-----------------+-----------------+\n",
    "| ensembl_gene_id | accession       |\n",
    "+-----------------+-----------------+\n",
    "| ENSG00000266960 | ENST00000586416 |\n",
    "+-----------------+-----------------+\n",
    "1 row in set (0.00 sec)\n",
    "```"
   ]
  },
  {
   "cell_type": "markdown",
   "metadata": {},
   "source": [
    "**Question 3.6:** *List the Transcript accessions for the Gene Symbol ﻿AK1 with id_biotype 23 and flags\n",
    "gencode_basic*"
   ]
  },
  {
   "cell_type": "markdown",
   "metadata": {},
   "source": [
    "```mysql\n",
    "mysql> select g.gene_symbol, g.id_biotype, t.accession from gene g join transcript t on g.id_gene = t.id_gene where g.gene_symbol = 'AK1' and g.id_biotype=23;\n",
    "+-------------+------------+-----------------+\n",
    "| gene_symbol | id_biotype | accession       |\n",
    "+-------------+------------+-----------------+\n",
    "| AK1         |         23 | ENST00000550143 |\n",
    "| AK1         |         23 | ENST00000413016 |\n",
    "| AK1         |         23 | ENST00000223836 |\n",
    "| AK1         |         23 | ENST00000550992 |\n",
    "| AK1         |         23 | ENST00000373156 |\n",
    "| AK1         |         23 | ENST00000373176 |\n",
    "+-------------+------------+-----------------+\n",
    "6 rows in set (0.00 sec)\n",
    "```"
   ]
  },
  {
   "cell_type": "markdown",
   "metadata": {},
   "source": [
    "**Question 3.7:** *Imagine that we have a table called “some_gene” with only a subset of the gene data. If I\n",
    "want to join the gene table with this table but display all the genes in the result, what kind of\n",
    "join would you do?*"
   ]
  },
  {
   "cell_type": "markdown",
   "metadata": {},
   "source": [
    "&nbsp;&nbsp;&nbsp;&nbsp;&nbsp;&nbsp;If `gene` and `some_gene` have different sets of gene ids that might overlap and we need all gene ids from both tables in the result, then full outer join is needed."
   ]
  },
  {
   "cell_type": "markdown",
   "metadata": {},
   "source": [
    "**Question 3.8:** *Imagine that the gene and transcript tables are getting very big and that joining the two tables\n",
    "get slower and slower. What would you do to improve performances?*"
   ]
  },
  {
   "cell_type": "markdown",
   "metadata": {},
   "source": [
    "- Indexing `id_gene` columns in `gene` and `transcript` tables can speed up joins.\n",
    "- Making `gene.id_gene` a primary key and adding FK constraint from `transcript.id_gene` to `gene.id_gene` would produce indexes that can speed up joins.\n",
    "- Partitioning `gene` and `transcript` table on join key (`id_gene`) can speed up joins as well."
   ]
  },
  {
   "cell_type": "markdown",
   "metadata": {},
   "source": [
    "**Question 3.9:** *If you want to avoid duplicates in a table, what kind of index would you create?*"
   ]
  },
  {
   "cell_type": "markdown",
   "metadata": {},
   "source": [
    "&nbsp;&nbsp;&nbsp;&nbsp;&nbsp;&nbsp;Primary keys and unique constraints"
   ]
  },
  {
   "cell_type": "markdown",
   "metadata": {},
   "source": [
    "**Question 3.10:** *If you want to make sure that all the id_gene ids in the transcript table exists in the gene\n",
    "table, what kind of index would you create?*"
   ]
  },
  {
   "cell_type": "markdown",
   "metadata": {},
   "source": [
    "&nbsp;&nbsp;&nbsp;&nbsp;&nbsp;&nbsp;Make `gene.id_gene` a primary key (or unique) and add FK constraint from `transcript.id_gene` to `gene.id_gene`."
   ]
  },
  {
   "cell_type": "markdown",
   "metadata": {},
   "source": [
    "Final request:\n",
    "- For Question 3.7, at first it wasn't very clear whether `some_gene` contained a subset of genes in `gene` table or all of genes `some_gene` belonged to a subset of genes in `gene` table. So, I provided an answer for a narrowed down scenario\n",
    "- The set up was quite easy on macOS Monterey."
   ]
  }
 ],
 "metadata": {
  "kernelspec": {
   "display_name": "Python 3.8.13 ('.venv': venv)",
   "language": "python",
   "name": "python3"
  },
  "language_info": {
   "codemirror_mode": {
    "name": "ipython",
    "version": 3
   },
   "file_extension": ".py",
   "mimetype": "text/x-python",
   "name": "python",
   "nbconvert_exporter": "python",
   "pygments_lexer": "ipython3",
   "version": "3.8.13"
  },
  "orig_nbformat": 4,
  "vscode": {
   "interpreter": {
    "hash": "2b0c6f58597cc32ac8a3ac055bdf6ec6f8a826067ae6ee0544c8ff56a2fe4496"
   }
  }
 },
 "nbformat": 4,
 "nbformat_minor": 2
}
